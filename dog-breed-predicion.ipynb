{
 "cells": [
  {
   "cell_type": "code",
   "execution_count": 1,
   "metadata": {},
   "outputs": [],
   "source": [
    "import pandas as pd\n",
    "import numpy as np\n",
    "import tensorflow as tf\n",
    "from sklearn.preprocessing import MultiLabelBinarizer\n",
    "from sklearn.model_selection import train_test_split\n",
    "from sklearn.preprocessing import LabelEncoder\n",
    "from tensorflow.keras import layers\n",
    "from tensorflow.keras.layers import Dense, Embedding, Flatten\n",
    "from tensorflow.keras.models import Sequential\n",
    "from tensorflow.keras.utils import to_categorical"
   ]
  },
  {
   "attachments": {},
   "cell_type": "markdown",
   "metadata": {},
   "source": [
    "## Data Collection"
   ]
  },
  {
   "cell_type": "code",
   "execution_count": 2,
   "metadata": {},
   "outputs": [
    {
     "data": {
      "text/html": [
       "<div>\n",
       "<style scoped>\n",
       "    .dataframe tbody tr th:only-of-type {\n",
       "        vertical-align: middle;\n",
       "    }\n",
       "\n",
       "    .dataframe tbody tr th {\n",
       "        vertical-align: top;\n",
       "    }\n",
       "\n",
       "    .dataframe thead th {\n",
       "        text-align: right;\n",
       "    }\n",
       "</style>\n",
       "<table border=\"1\" class=\"dataframe\">\n",
       "  <thead>\n",
       "    <tr style=\"text-align: right;\">\n",
       "      <th></th>\n",
       "      <th>breed</th>\n",
       "      <th>description</th>\n",
       "      <th>temperament</th>\n",
       "      <th>popularity</th>\n",
       "      <th>min_height</th>\n",
       "      <th>max_height</th>\n",
       "      <th>min_weight</th>\n",
       "      <th>max_weight</th>\n",
       "      <th>min_expectancy</th>\n",
       "      <th>max_expectancy</th>\n",
       "      <th>...</th>\n",
       "      <th>grooming_frequency_value</th>\n",
       "      <th>grooming_frequency_category</th>\n",
       "      <th>shedding_value</th>\n",
       "      <th>shedding_category</th>\n",
       "      <th>energy_level_value</th>\n",
       "      <th>energy_level_category</th>\n",
       "      <th>trainability_value</th>\n",
       "      <th>trainability_category</th>\n",
       "      <th>demeanor_value</th>\n",
       "      <th>demeanor_category</th>\n",
       "    </tr>\n",
       "  </thead>\n",
       "  <tbody>\n",
       "    <tr>\n",
       "      <th>0</th>\n",
       "      <td>Affenpinscher</td>\n",
       "      <td>The Affen’s apish look has been described many...</td>\n",
       "      <td>Confident, Famously Funny, Fearless</td>\n",
       "      <td>148</td>\n",
       "      <td>22.86</td>\n",
       "      <td>29.21</td>\n",
       "      <td>3.175147</td>\n",
       "      <td>4.535924</td>\n",
       "      <td>12.0</td>\n",
       "      <td>15.0</td>\n",
       "      <td>...</td>\n",
       "      <td>0.6</td>\n",
       "      <td>2-3 Times a Week Brushing</td>\n",
       "      <td>0.6</td>\n",
       "      <td>Seasonal</td>\n",
       "      <td>0.6</td>\n",
       "      <td>Regular Exercise</td>\n",
       "      <td>0.8</td>\n",
       "      <td>Easy Training</td>\n",
       "      <td>1.0</td>\n",
       "      <td>Outgoing</td>\n",
       "    </tr>\n",
       "    <tr>\n",
       "      <th>1</th>\n",
       "      <td>Afghan Hound</td>\n",
       "      <td>The Afghan Hound is an ancient breed, his whol...</td>\n",
       "      <td>Dignified, Profoundly Loyal, Aristocratic</td>\n",
       "      <td>113</td>\n",
       "      <td>63.50</td>\n",
       "      <td>68.58</td>\n",
       "      <td>22.679619</td>\n",
       "      <td>27.215542</td>\n",
       "      <td>12.0</td>\n",
       "      <td>15.0</td>\n",
       "      <td>...</td>\n",
       "      <td>0.8</td>\n",
       "      <td>Daily Brushing</td>\n",
       "      <td>0.2</td>\n",
       "      <td>Infrequent</td>\n",
       "      <td>0.8</td>\n",
       "      <td>Energetic</td>\n",
       "      <td>0.2</td>\n",
       "      <td>May be Stubborn</td>\n",
       "      <td>0.2</td>\n",
       "      <td>Aloof/Wary</td>\n",
       "    </tr>\n",
       "    <tr>\n",
       "      <th>2</th>\n",
       "      <td>Airedale Terrier</td>\n",
       "      <td>The Airedale Terrier is the largest of all ter...</td>\n",
       "      <td>Friendly, Clever, Courageous</td>\n",
       "      <td>60</td>\n",
       "      <td>58.42</td>\n",
       "      <td>58.42</td>\n",
       "      <td>22.679619</td>\n",
       "      <td>31.751466</td>\n",
       "      <td>11.0</td>\n",
       "      <td>14.0</td>\n",
       "      <td>...</td>\n",
       "      <td>0.6</td>\n",
       "      <td>2-3 Times a Week Brushing</td>\n",
       "      <td>0.4</td>\n",
       "      <td>Occasional</td>\n",
       "      <td>0.6</td>\n",
       "      <td>Regular Exercise</td>\n",
       "      <td>1.0</td>\n",
       "      <td>Eager to Please</td>\n",
       "      <td>0.8</td>\n",
       "      <td>Friendly</td>\n",
       "    </tr>\n",
       "    <tr>\n",
       "      <th>3</th>\n",
       "      <td>Akita</td>\n",
       "      <td>Akitas are burly, heavy-boned spitz-type dogs ...</td>\n",
       "      <td>Courageous, Dignified, Profoundly Loyal</td>\n",
       "      <td>47</td>\n",
       "      <td>60.96</td>\n",
       "      <td>71.12</td>\n",
       "      <td>31.751466</td>\n",
       "      <td>58.967008</td>\n",
       "      <td>10.0</td>\n",
       "      <td>13.0</td>\n",
       "      <td>...</td>\n",
       "      <td>0.8</td>\n",
       "      <td>Daily Brushing</td>\n",
       "      <td>0.6</td>\n",
       "      <td>Seasonal</td>\n",
       "      <td>0.8</td>\n",
       "      <td>Energetic</td>\n",
       "      <td>1.0</td>\n",
       "      <td>Eager to Please</td>\n",
       "      <td>0.6</td>\n",
       "      <td>Alert/Responsive</td>\n",
       "    </tr>\n",
       "    <tr>\n",
       "      <th>4</th>\n",
       "      <td>Alaskan Malamute</td>\n",
       "      <td>The Alaskan Malamute stands 23 to 25 inches at...</td>\n",
       "      <td>Affectionate, Loyal, Playful</td>\n",
       "      <td>58</td>\n",
       "      <td>58.42</td>\n",
       "      <td>63.50</td>\n",
       "      <td>34.019428</td>\n",
       "      <td>38.555351</td>\n",
       "      <td>10.0</td>\n",
       "      <td>14.0</td>\n",
       "      <td>...</td>\n",
       "      <td>0.6</td>\n",
       "      <td>2-3 Times a Week Brushing</td>\n",
       "      <td>0.6</td>\n",
       "      <td>Seasonal</td>\n",
       "      <td>0.8</td>\n",
       "      <td>Energetic</td>\n",
       "      <td>0.4</td>\n",
       "      <td>Independent</td>\n",
       "      <td>0.8</td>\n",
       "      <td>Friendly</td>\n",
       "    </tr>\n",
       "  </tbody>\n",
       "</table>\n",
       "<p>5 rows × 21 columns</p>\n",
       "</div>"
      ],
      "text/plain": [
       "              breed                                        description  \\\n",
       "0     Affenpinscher  The Affen’s apish look has been described many...   \n",
       "1      Afghan Hound  The Afghan Hound is an ancient breed, his whol...   \n",
       "2  Airedale Terrier  The Airedale Terrier is the largest of all ter...   \n",
       "3             Akita  Akitas are burly, heavy-boned spitz-type dogs ...   \n",
       "4  Alaskan Malamute  The Alaskan Malamute stands 23 to 25 inches at...   \n",
       "\n",
       "                                 temperament popularity  min_height  \\\n",
       "0        Confident, Famously Funny, Fearless        148       22.86   \n",
       "1  Dignified, Profoundly Loyal, Aristocratic        113       63.50   \n",
       "2               Friendly, Clever, Courageous         60       58.42   \n",
       "3    Courageous, Dignified, Profoundly Loyal         47       60.96   \n",
       "4               Affectionate, Loyal, Playful         58       58.42   \n",
       "\n",
       "   max_height  min_weight  max_weight  min_expectancy  max_expectancy  ...  \\\n",
       "0       29.21    3.175147    4.535924            12.0            15.0  ...   \n",
       "1       68.58   22.679619   27.215542            12.0            15.0  ...   \n",
       "2       58.42   22.679619   31.751466            11.0            14.0  ...   \n",
       "3       71.12   31.751466   58.967008            10.0            13.0  ...   \n",
       "4       63.50   34.019428   38.555351            10.0            14.0  ...   \n",
       "\n",
       "  grooming_frequency_value  grooming_frequency_category shedding_value  \\\n",
       "0                      0.6    2-3 Times a Week Brushing            0.6   \n",
       "1                      0.8               Daily Brushing            0.2   \n",
       "2                      0.6    2-3 Times a Week Brushing            0.4   \n",
       "3                      0.8               Daily Brushing            0.6   \n",
       "4                      0.6    2-3 Times a Week Brushing            0.6   \n",
       "\n",
       "   shedding_category energy_level_value  energy_level_category  \\\n",
       "0           Seasonal                0.6       Regular Exercise   \n",
       "1         Infrequent                0.8              Energetic   \n",
       "2         Occasional                0.6       Regular Exercise   \n",
       "3           Seasonal                0.8              Energetic   \n",
       "4           Seasonal                0.8              Energetic   \n",
       "\n",
       "  trainability_value  trainability_category demeanor_value  demeanor_category  \n",
       "0                0.8          Easy Training            1.0           Outgoing  \n",
       "1                0.2        May be Stubborn            0.2         Aloof/Wary  \n",
       "2                1.0        Eager to Please            0.8           Friendly  \n",
       "3                1.0        Eager to Please            0.6   Alert/Responsive  \n",
       "4                0.4            Independent            0.8           Friendly  \n",
       "\n",
       "[5 rows x 21 columns]"
      ]
     },
     "execution_count": 2,
     "metadata": {},
     "output_type": "execute_result"
    }
   ],
   "source": [
    "dataframe = pd.read_csv('./data/akc-data-latest.csv')\n",
    "dataframe.head()"
   ]
  },
  {
   "attachments": {},
   "cell_type": "markdown",
   "metadata": {},
   "source": [
    "## 1. Data Collection\n",
    "\n",
    "There was 1 column for the breed name, 1 column with the description, 1 column for a popularity score (1 is the most popular breed, and higher numbers correspond to less popular breeds), and 18 columns for traits."
   ]
  },
  {
   "cell_type": "code",
   "execution_count": 3,
   "metadata": {},
   "outputs": [
    {
     "data": {
      "text/plain": [
       "['breed',\n",
       " 'description',\n",
       " 'temperament',\n",
       " 'popularity',\n",
       " 'min_height',\n",
       " 'max_height',\n",
       " 'min_weight',\n",
       " 'max_weight',\n",
       " 'min_expectancy',\n",
       " 'max_expectancy',\n",
       " 'group',\n",
       " 'grooming_frequency_value',\n",
       " 'grooming_frequency_category',\n",
       " 'shedding_value',\n",
       " 'shedding_category',\n",
       " 'energy_level_value',\n",
       " 'energy_level_category',\n",
       " 'trainability_value',\n",
       " 'trainability_category',\n",
       " 'demeanor_value',\n",
       " 'demeanor_category']"
      ]
     },
     "execution_count": 3,
     "metadata": {},
     "output_type": "execute_result"
    }
   ],
   "source": [
    "dataframe.columns.tolist()"
   ]
  },
  {
   "attachments": {},
   "cell_type": "markdown",
   "metadata": {},
   "source": [
    "The “min_expectancy” and “max_expectancy” columns refer to the minimum and maximum life expectancies of the dog breed, with years as the unit of measurement.\n",
    "\n",
    "The “group” column refers to the 7 major dog groups, but there were 2 incorrect values of “Foundation Stock Service” and “Miscellaneous Class”.\n",
    "\n"
   ]
  },
  {
   "cell_type": "code",
   "execution_count": 4,
   "metadata": {},
   "outputs": [
    {
     "data": {
      "text/plain": [
       "['Toy Group',\n",
       " 'Hound Group',\n",
       " 'Terrier Group',\n",
       " 'Working Group',\n",
       " 'Foundation Stock Service',\n",
       " 'Non-Sporting Group',\n",
       " 'Sporting Group',\n",
       " 'Herding Group',\n",
       " 'Miscellaneous Class']"
      ]
     },
     "execution_count": 4,
     "metadata": {},
     "output_type": "execute_result"
    }
   ],
   "source": [
    "dataframe['group'].unique().tolist()\n"
   ]
  },
  {
   "attachments": {},
   "cell_type": "markdown",
   "metadata": {},
   "source": [
    "The columns with “_value” in their name have values of 0.2, 0.4, 0.6, 0.8, or 1. that correspond to the values of the columns with “_category” in their name. The higher numbers indicate that the breed has more of the trait that the column refers to. For example, for shedding_value, the higher numbers mean that the breed sheds more often, which is indicated by shedding_category."
   ]
  },
  {
   "cell_type": "code",
   "execution_count": 5,
   "metadata": {},
   "outputs": [
    {
     "data": {
      "text/html": [
       "<div>\n",
       "<style scoped>\n",
       "    .dataframe tbody tr th:only-of-type {\n",
       "        vertical-align: middle;\n",
       "    }\n",
       "\n",
       "    .dataframe tbody tr th {\n",
       "        vertical-align: top;\n",
       "    }\n",
       "\n",
       "    .dataframe thead th {\n",
       "        text-align: right;\n",
       "    }\n",
       "</style>\n",
       "<table border=\"1\" class=\"dataframe\">\n",
       "  <thead>\n",
       "    <tr style=\"text-align: right;\">\n",
       "      <th></th>\n",
       "      <th>shedding_value</th>\n",
       "      <th>shedding_category</th>\n",
       "    </tr>\n",
       "  </thead>\n",
       "  <tbody>\n",
       "    <tr>\n",
       "      <th>0</th>\n",
       "      <td>0.6</td>\n",
       "      <td>Seasonal</td>\n",
       "    </tr>\n",
       "    <tr>\n",
       "      <th>1</th>\n",
       "      <td>0.2</td>\n",
       "      <td>Infrequent</td>\n",
       "    </tr>\n",
       "    <tr>\n",
       "      <th>2</th>\n",
       "      <td>0.4</td>\n",
       "      <td>Occasional</td>\n",
       "    </tr>\n",
       "    <tr>\n",
       "      <th>3</th>\n",
       "      <td>0.6</td>\n",
       "      <td>Seasonal</td>\n",
       "    </tr>\n",
       "    <tr>\n",
       "      <th>4</th>\n",
       "      <td>0.6</td>\n",
       "      <td>Seasonal</td>\n",
       "    </tr>\n",
       "  </tbody>\n",
       "</table>\n",
       "</div>"
      ],
      "text/plain": [
       "   shedding_value shedding_category\n",
       "0             0.6          Seasonal\n",
       "1             0.2        Infrequent\n",
       "2             0.4        Occasional\n",
       "3             0.6          Seasonal\n",
       "4             0.6          Seasonal"
      ]
     },
     "execution_count": 5,
     "metadata": {},
     "output_type": "execute_result"
    }
   ],
   "source": [
    "dataframe[['shedding_value', 'shedding_category']].head()"
   ]
  },
  {
   "attachments": {},
   "cell_type": "markdown",
   "metadata": {},
   "source": [
    "## Menampilkan Kolom Temprament\n",
    "kolom temprament memiliki 129 nilai temprament yang unik, karena itu saya membuat kolom temprament_category untuk mengelompokkan temprament menjadi 10 kategori yang lebih umum yaitu: Friendly, Playful, Loyal, Confident, Intelligent, Gentle, Active, Calm, Indepentend, Brave"
   ]
  },
  {
   "cell_type": "code",
   "execution_count": 6,
   "metadata": {},
   "outputs": [],
   "source": [
    "temperament_categories = {\n",
    "    \"Amiable\": [\"Friendly\", \"Outgoing\", \"Amiable\", \"Sociable\", \"Gregarious\"],\n",
    "    \"Playful\": [\"Playful\", \"Mischievous\", \"Fun-Loving\", \"Lively\", \"Entertaining\", \"Energetic\"],\n",
    "    \"Loyal\": [\"Loyal\", \"Devoted\", \"Faithful\", \"Dependable\", \"Obedient\"],\n",
    "    \"Confident\": [\"Confident\", \"Self-Confident\", \"Fearless\", \"Bold\", \"Courageous\", \"Confident Guardian\"],\n",
    "    \"Intelligent\": [\"Very Smart\", \"Quick\", \"Intelligent\", \"Smart\", \"Observant\", \"Keenly Observant\"],\n",
    "    \"Gentle\": [\"Gentle\", \"Sweet-Tempered\", \"Sweet\", \"Gentlemanly\", \"Sweet-Natured\"],\n",
    "    \"Active\": [\"Active\", \"Spirited\", \"Keen\", \"Active\", \"Vigilant\", \"Athletic\"],\n",
    "    \"Low-Key\": [\"Calm\", \"Even-Tempered\", \"Low-Key\"],\n",
    "    \"Independent\": [\"Independent\", \"Independent-Minded\", \"Strong-Willed\"],\n",
    "    \"Brave\": [\"Brave\", \"Fearless\"]\n",
    "}\n"
   ]
  },
  {
   "cell_type": "code",
   "execution_count": 7,
   "metadata": {},
   "outputs": [],
   "source": [
    "# Function to map temperament to the corresponding category\n",
    "def map_temperament_category(temperament):\n",
    "    if isinstance(temperament, float):\n",
    "        return \"Other\"  # Handle float values\n",
    "    for category, traits in temperament_categories.items():\n",
    "        if any(trait in temperament for trait in traits):\n",
    "            return category\n",
    "    return \"Other\"\n",
    "\n",
    "# Apply the mapping function to the \"temperament\" column\n",
    "dataframe[\"temperament_category\"] = dataframe[\"temperament\"].apply(map_temperament_category)\n"
   ]
  },
  {
   "cell_type": "code",
   "execution_count": 8,
   "metadata": {},
   "outputs": [
    {
     "data": {
      "text/html": [
       "<div>\n",
       "<style scoped>\n",
       "    .dataframe tbody tr th:only-of-type {\n",
       "        vertical-align: middle;\n",
       "    }\n",
       "\n",
       "    .dataframe tbody tr th {\n",
       "        vertical-align: top;\n",
       "    }\n",
       "\n",
       "    .dataframe thead th {\n",
       "        text-align: right;\n",
       "    }\n",
       "</style>\n",
       "<table border=\"1\" class=\"dataframe\">\n",
       "  <thead>\n",
       "    <tr style=\"text-align: right;\">\n",
       "      <th></th>\n",
       "      <th>temperament</th>\n",
       "      <th>temperament_category</th>\n",
       "    </tr>\n",
       "  </thead>\n",
       "  <tbody>\n",
       "    <tr>\n",
       "      <th>0</th>\n",
       "      <td>Confident, Famously Funny, Fearless</td>\n",
       "      <td>Confident</td>\n",
       "    </tr>\n",
       "    <tr>\n",
       "      <th>1</th>\n",
       "      <td>Dignified, Profoundly Loyal, Aristocratic</td>\n",
       "      <td>Loyal</td>\n",
       "    </tr>\n",
       "    <tr>\n",
       "      <th>2</th>\n",
       "      <td>Friendly, Clever, Courageous</td>\n",
       "      <td>Amiable</td>\n",
       "    </tr>\n",
       "    <tr>\n",
       "      <th>3</th>\n",
       "      <td>Courageous, Dignified, Profoundly Loyal</td>\n",
       "      <td>Loyal</td>\n",
       "    </tr>\n",
       "    <tr>\n",
       "      <th>4</th>\n",
       "      <td>Affectionate, Loyal, Playful</td>\n",
       "      <td>Playful</td>\n",
       "    </tr>\n",
       "    <tr>\n",
       "      <th>...</th>\n",
       "      <td>...</td>\n",
       "      <td>...</td>\n",
       "    </tr>\n",
       "    <tr>\n",
       "      <th>270</th>\n",
       "      <td>Confident, Alert, Gregarious</td>\n",
       "      <td>Amiable</td>\n",
       "    </tr>\n",
       "    <tr>\n",
       "      <th>271</th>\n",
       "      <td>Friendly, Devoted, Trainable</td>\n",
       "      <td>Amiable</td>\n",
       "    </tr>\n",
       "    <tr>\n",
       "      <th>272</th>\n",
       "      <td>Gentle, Loyal, Trainable</td>\n",
       "      <td>Loyal</td>\n",
       "    </tr>\n",
       "    <tr>\n",
       "      <th>274</th>\n",
       "      <td>Loyal, Alert, Calm</td>\n",
       "      <td>Loyal</td>\n",
       "    </tr>\n",
       "    <tr>\n",
       "      <th>276</th>\n",
       "      <td>Affectionate, Sprightly, Tomboyish</td>\n",
       "      <td>Other</td>\n",
       "    </tr>\n",
       "  </tbody>\n",
       "</table>\n",
       "<p>188 rows × 2 columns</p>\n",
       "</div>"
      ],
      "text/plain": [
       "                                   temperament temperament_category\n",
       "0          Confident, Famously Funny, Fearless            Confident\n",
       "1    Dignified, Profoundly Loyal, Aristocratic                Loyal\n",
       "2                 Friendly, Clever, Courageous              Amiable\n",
       "3      Courageous, Dignified, Profoundly Loyal                Loyal\n",
       "4                 Affectionate, Loyal, Playful              Playful\n",
       "..                                         ...                  ...\n",
       "270               Confident, Alert, Gregarious              Amiable\n",
       "271               Friendly, Devoted, Trainable              Amiable\n",
       "272                   Gentle, Loyal, Trainable                Loyal\n",
       "274                         Loyal, Alert, Calm                Loyal\n",
       "276         Affectionate, Sprightly, Tomboyish                Other\n",
       "\n",
       "[188 rows x 2 columns]"
      ]
     },
     "execution_count": 8,
     "metadata": {},
     "output_type": "execute_result"
    }
   ],
   "source": [
    "dataframe = dataframe.dropna()\n",
    "dataframe[['temperament', 'temperament_category']]\n"
   ]
  },
  {
   "attachments": {},
   "cell_type": "markdown",
   "metadata": {},
   "source": [
    "## Menampilkan Data Kolom grooming_frequency_category\n",
    "Grooming frequency mengacu pada seberapa sering suatu hewan peliharaan perlu menjalani perawatan dan pemeliharaan rutin terkait kebersihan dan penampilan fisik mereka. Ini melibatkan kegiatan seperti menyisir bulu, mandi, memotong kuku, pembersihan telinga, dan lain sebagainya."
   ]
  },
  {
   "cell_type": "code",
   "execution_count": 9,
   "metadata": {},
   "outputs": [
    {
     "data": {
      "text/plain": [
       "['2-3 Times a Week Brushing',\n",
       " 'Daily Brushing',\n",
       " 'Occasional Bath/Brush',\n",
       " 'Weekly Brushing',\n",
       " 'Specialty/Professional']"
      ]
     },
     "execution_count": 9,
     "metadata": {},
     "output_type": "execute_result"
    }
   ],
   "source": [
    "dataframe['grooming_frequency_category'].unique().tolist()\n"
   ]
  },
  {
   "attachments": {},
   "cell_type": "markdown",
   "metadata": {},
   "source": [
    "## Menampilkan Data Kolom shedding_category\n",
    "Shedding category merujuk pada kategori atau tingkat kehilangan bulu pada hewan peliharaan. Ini menggambarkan seberapa banyak bulu hewan peliharaan rontok secara alami dalam suatu periode waktu tertentu."
   ]
  },
  {
   "cell_type": "code",
   "execution_count": 10,
   "metadata": {},
   "outputs": [
    {
     "data": {
      "text/plain": [
       "['Seasonal', 'Infrequent', 'Occasional', 'Regularly', 'Frequent']"
      ]
     },
     "execution_count": 10,
     "metadata": {},
     "output_type": "execute_result"
    }
   ],
   "source": [
    "dataframe['shedding_category'].unique().tolist()\n"
   ]
  },
  {
   "attachments": {},
   "cell_type": "markdown",
   "metadata": {},
   "source": [
    "## menampilkan data kolom energy_level_category"
   ]
  },
  {
   "cell_type": "code",
   "execution_count": 11,
   "metadata": {},
   "outputs": [
    {
     "data": {
      "text/plain": [
       "['Regular Exercise',\n",
       " 'Energetic',\n",
       " 'Needs Lots of Activity',\n",
       " 'Couch Potato',\n",
       " 'Calm']"
      ]
     },
     "execution_count": 11,
     "metadata": {},
     "output_type": "execute_result"
    }
   ],
   "source": [
    "dataframe['energy_level_category'].unique().tolist()\n"
   ]
  },
  {
   "attachments": {},
   "cell_type": "markdown",
   "metadata": {},
   "source": [
    "## menampilkan data trainability_category"
   ]
  },
  {
   "cell_type": "code",
   "execution_count": 12,
   "metadata": {},
   "outputs": [
    {
     "data": {
      "text/plain": [
       "['Easy Training',\n",
       " 'May be Stubborn',\n",
       " 'Eager to Please',\n",
       " 'Independent',\n",
       " 'Agreeable']"
      ]
     },
     "execution_count": 12,
     "metadata": {},
     "output_type": "execute_result"
    }
   ],
   "source": [
    "dataframe['trainability_category'].unique().tolist()\n"
   ]
  },
  {
   "attachments": {},
   "cell_type": "markdown",
   "metadata": {},
   "source": [
    "## menampilkan data demeanor_category"
   ]
  },
  {
   "attachments": {},
   "cell_type": "markdown",
   "metadata": {},
   "source": [
    "Demeanor category merujuk pada kategori atau karakteristik perilaku umum yang dimiliki oleh hewan peliharaan. Ini menggambarkan sifat atau sikap umum yang sering terlihat pada hewan peliharaan.\n",
    "\n",
    "Demeanor category umumnya digunakan untuk menggambarkan sifat atau sikap umum hewan peliharaan, terutama dalam interaksi dengan manusia dan lingkungan sekitarnya."
   ]
  },
  {
   "attachments": {},
   "cell_type": "markdown",
   "metadata": {},
   "source": [
    "Temperament category mengacu pada sifat atau sikap bawaan yang mendasar yang cenderung konsisten pada hewan peliharaan sepanjang hidup mereka. Ini adalah sifat-sifat yang melekat pada individu dan cenderung dipengaruhi oleh faktor genetik. Contohnya dapat mencakup tingkat keberanian, keaktifan, kecerdasan, kepatuhan, dan kecenderungan terhadap perilaku tertentu. Temperament category dapat memberikan gambaran umum tentang kepribadian hewan peliharaan.\n",
    "\n",
    "Sementara itu, demeanor category lebih menggambarkan sikap dan perilaku umum yang sering terlihat pada hewan peliharaan dalam interaksi dengan manusia dan lingkungan sekitarnya. Ini dapat mencakup sifat-sifat seperti ramah, bermain, tenang, protektif, dan mandiri. Demeanor category lebih berfokus pada respons dan perilaku hewan peliharaan terhadap lingkungan sekitarnya dan interaksi dengan pemilik atau orang lain.\n",
    "\n",
    "Perbedaan utama antara temperament category dan demeanor category adalah bahwa temperament category lebih berkaitan dengan sifat bawaan dan karakteristik individu yang cenderung konsisten, sedangkan demeanor category lebih berkaitan dengan sikap dan perilaku umum yang terlihat dalam interaksi sehari-hari. Dalam konteks hewan peliharaan, keduanya dapat memberikan pemahaman yang lebih lengkap tentang sifat dan perilaku hewan peliharaan tersebut.\n",
    "\n",
    "\n",
    "\n",
    "\n"
   ]
  },
  {
   "cell_type": "code",
   "execution_count": 13,
   "metadata": {},
   "outputs": [
    {
     "data": {
      "text/plain": [
       "['Outgoing',\n",
       " 'Aloof/Wary',\n",
       " 'Friendly',\n",
       " 'Alert/Responsive',\n",
       " 'Reserved with Strangers']"
      ]
     },
     "execution_count": 13,
     "metadata": {},
     "output_type": "execute_result"
    }
   ],
   "source": [
    "dataframe['demeanor_category'].unique().tolist()\n"
   ]
  },
  {
   "attachments": {},
   "cell_type": "markdown",
   "metadata": {},
   "source": [
    "## Menampilkan Data Kolom Popularity"
   ]
  },
  {
   "cell_type": "code",
   "execution_count": 14,
   "metadata": {},
   "outputs": [
    {
     "data": {
      "text/plain": [
       "['148',\n",
       " '113',\n",
       " '60',\n",
       " '47',\n",
       " '58',\n",
       " '175',\n",
       " '122',\n",
       " '186',\n",
       " '85',\n",
       " '166',\n",
       " '90',\n",
       " '55',\n",
       " '17',\n",
       " '140',\n",
       " 'of',\n",
       " 'of',\n",
       " '87',\n",
       " '39',\n",
       " '6',\n",
       " '127',\n",
       " '124',\n",
       " '43',\n",
       " '125',\n",
       " '106',\n",
       " '187',\n",
       " '144',\n",
       " '22',\n",
       " '46',\n",
       " '138',\n",
       " '118',\n",
       " '49',\n",
       " '130',\n",
       " '121',\n",
       " '35',\n",
       " '88',\n",
       " '103',\n",
       " '21',\n",
       " '84',\n",
       " '11',\n",
       " '100',\n",
       " '132',\n",
       " '26',\n",
       " '98',\n",
       " '62',\n",
       " '5',\n",
       " '51',\n",
       " '69',\n",
       " '179',\n",
       " '32',\n",
       " '68',\n",
       " '18',\n",
       " '185',\n",
       " '45',\n",
       " '33',\n",
       " '79',\n",
       " '64',\n",
       " '190',\n",
       " '75',\n",
       " '183',\n",
       " '143',\n",
       " '30',\n",
       " '38',\n",
       " '81',\n",
       " '162',\n",
       " '12',\n",
       " '56',\n",
       " '176',\n",
       " '17',\n",
       " '67',\n",
       " '52',\n",
       " '188',\n",
       " '94',\n",
       " '27',\n",
       " '135',\n",
       " '157',\n",
       " '149',\n",
       " '161',\n",
       " '184',\n",
       " '91',\n",
       " '4',\n",
       " '134',\n",
       " '2',\n",
       " '9',\n",
       " '63',\n",
       " '174',\n",
       " '3',\n",
       " '115',\n",
       " '177',\n",
       " '16',\n",
       " '66',\n",
       " '74',\n",
       " '145',\n",
       " '189',\n",
       " '24',\n",
       " '152',\n",
       " '155',\n",
       " '77',\n",
       " '159',\n",
       " '76',\n",
       " '73',\n",
       " '104',\n",
       " '95',\n",
       " '173',\n",
       " '163',\n",
       " '1',\n",
       " '99',\n",
       " '147',\n",
       " '93',\n",
       " '71',\n",
       " '168',\n",
       " '37',\n",
       " '133',\n",
       " '133',\n",
       " '29',\n",
       " '34',\n",
       " '110',\n",
       " '70',\n",
       " '19',\n",
       " '102',\n",
       " '150',\n",
       " '40',\n",
       " '126',\n",
       " '165',\n",
       " '97',\n",
       " '191',\n",
       " '108',\n",
       " '83',\n",
       " '72',\n",
       " '182',\n",
       " '54',\n",
       " '117',\n",
       " '92',\n",
       " '13',\n",
       " '156',\n",
       " '172',\n",
       " '171',\n",
       " '114',\n",
       " '170',\n",
       " '23',\n",
       " '7',\n",
       " '7',\n",
       " '154',\n",
       " '50',\n",
       " '28',\n",
       " '160',\n",
       " '151',\n",
       " '181',\n",
       " '86',\n",
       " '142',\n",
       " '41',\n",
       " '8',\n",
       " '82',\n",
       " '48',\n",
       " '120',\n",
       " '59',\n",
       " '105',\n",
       " '158',\n",
       " '57',\n",
       " '164',\n",
       " '25',\n",
       " '44',\n",
       " '20',\n",
       " '14',\n",
       " '112',\n",
       " '178',\n",
       " '192',\n",
       " '123',\n",
       " '53',\n",
       " '153',\n",
       " '80',\n",
       " '89',\n",
       " '180',\n",
       " '169',\n",
       " '131',\n",
       " '119',\n",
       " '96',\n",
       " '111',\n",
       " '137',\n",
       " '31',\n",
       " '36',\n",
       " '107',\n",
       " '42',\n",
       " '61',\n",
       " '101',\n",
       " '65',\n",
       " '167',\n",
       " '140',\n",
       " '10']"
      ]
     },
     "execution_count": 14,
     "metadata": {},
     "output_type": "execute_result"
    }
   ],
   "source": [
    "dataframe['popularity'].tolist()"
   ]
  },
  {
   "attachments": {},
   "cell_type": "markdown",
   "metadata": {},
   "source": [
    "## 2. Data Processing"
   ]
  },
  {
   "attachments": {},
   "cell_type": "markdown",
   "metadata": {},
   "source": [
    "## Membuat Kolom Height, Weight, dan Expectancy"
   ]
  },
  {
   "cell_type": "code",
   "execution_count": 15,
   "metadata": {},
   "outputs": [],
   "source": [
    "for col in ['height', 'weight', 'expectancy']:\n",
    "    dataframe[col] = (dataframe['min_'+col] + dataframe['max_'+col]) / 2"
   ]
  },
  {
   "cell_type": "code",
   "execution_count": 16,
   "metadata": {},
   "outputs": [
    {
     "data": {
      "text/html": [
       "<div>\n",
       "<style scoped>\n",
       "    .dataframe tbody tr th:only-of-type {\n",
       "        vertical-align: middle;\n",
       "    }\n",
       "\n",
       "    .dataframe tbody tr th {\n",
       "        vertical-align: top;\n",
       "    }\n",
       "\n",
       "    .dataframe thead th {\n",
       "        text-align: right;\n",
       "    }\n",
       "</style>\n",
       "<table border=\"1\" class=\"dataframe\">\n",
       "  <thead>\n",
       "    <tr style=\"text-align: right;\">\n",
       "      <th></th>\n",
       "      <th>height</th>\n",
       "      <th>min_height</th>\n",
       "      <th>max_height</th>\n",
       "    </tr>\n",
       "  </thead>\n",
       "  <tbody>\n",
       "    <tr>\n",
       "      <th>0</th>\n",
       "      <td>26.035</td>\n",
       "      <td>22.86</td>\n",
       "      <td>29.21</td>\n",
       "    </tr>\n",
       "    <tr>\n",
       "      <th>1</th>\n",
       "      <td>66.040</td>\n",
       "      <td>63.50</td>\n",
       "      <td>68.58</td>\n",
       "    </tr>\n",
       "    <tr>\n",
       "      <th>2</th>\n",
       "      <td>58.420</td>\n",
       "      <td>58.42</td>\n",
       "      <td>58.42</td>\n",
       "    </tr>\n",
       "    <tr>\n",
       "      <th>3</th>\n",
       "      <td>66.040</td>\n",
       "      <td>60.96</td>\n",
       "      <td>71.12</td>\n",
       "    </tr>\n",
       "    <tr>\n",
       "      <th>4</th>\n",
       "      <td>60.960</td>\n",
       "      <td>58.42</td>\n",
       "      <td>63.50</td>\n",
       "    </tr>\n",
       "  </tbody>\n",
       "</table>\n",
       "</div>"
      ],
      "text/plain": [
       "   height  min_height  max_height\n",
       "0  26.035       22.86       29.21\n",
       "1  66.040       63.50       68.58\n",
       "2  58.420       58.42       58.42\n",
       "3  66.040       60.96       71.12\n",
       "4  60.960       58.42       63.50"
      ]
     },
     "execution_count": 16,
     "metadata": {},
     "output_type": "execute_result"
    }
   ],
   "source": [
    "dataframe[['height', 'min_height', 'max_height']].head()"
   ]
  },
  {
   "cell_type": "code",
   "execution_count": 17,
   "metadata": {},
   "outputs": [
    {
     "data": {
      "text/html": [
       "<div>\n",
       "<style scoped>\n",
       "    .dataframe tbody tr th:only-of-type {\n",
       "        vertical-align: middle;\n",
       "    }\n",
       "\n",
       "    .dataframe tbody tr th {\n",
       "        vertical-align: top;\n",
       "    }\n",
       "\n",
       "    .dataframe thead th {\n",
       "        text-align: right;\n",
       "    }\n",
       "</style>\n",
       "<table border=\"1\" class=\"dataframe\">\n",
       "  <thead>\n",
       "    <tr style=\"text-align: right;\">\n",
       "      <th></th>\n",
       "      <th>breed</th>\n",
       "      <th>description</th>\n",
       "      <th>temperament</th>\n",
       "      <th>popularity</th>\n",
       "      <th>min_height</th>\n",
       "      <th>max_height</th>\n",
       "      <th>min_weight</th>\n",
       "      <th>max_weight</th>\n",
       "      <th>min_expectancy</th>\n",
       "      <th>max_expectancy</th>\n",
       "      <th>...</th>\n",
       "      <th>energy_level_value</th>\n",
       "      <th>energy_level_category</th>\n",
       "      <th>trainability_value</th>\n",
       "      <th>trainability_category</th>\n",
       "      <th>demeanor_value</th>\n",
       "      <th>demeanor_category</th>\n",
       "      <th>temperament_category</th>\n",
       "      <th>height</th>\n",
       "      <th>weight</th>\n",
       "      <th>expectancy</th>\n",
       "    </tr>\n",
       "  </thead>\n",
       "  <tbody>\n",
       "    <tr>\n",
       "      <th>0</th>\n",
       "      <td>Affenpinscher</td>\n",
       "      <td>The Affen’s apish look has been described many...</td>\n",
       "      <td>Confident, Famously Funny, Fearless</td>\n",
       "      <td>148</td>\n",
       "      <td>22.86</td>\n",
       "      <td>29.21</td>\n",
       "      <td>3.175147</td>\n",
       "      <td>4.535924</td>\n",
       "      <td>12.0</td>\n",
       "      <td>15.0</td>\n",
       "      <td>...</td>\n",
       "      <td>0.6</td>\n",
       "      <td>Regular Exercise</td>\n",
       "      <td>0.8</td>\n",
       "      <td>Easy Training</td>\n",
       "      <td>1.0</td>\n",
       "      <td>Outgoing</td>\n",
       "      <td>Confident</td>\n",
       "      <td>26.035</td>\n",
       "      <td>3.855535</td>\n",
       "      <td>13.5</td>\n",
       "    </tr>\n",
       "    <tr>\n",
       "      <th>1</th>\n",
       "      <td>Afghan Hound</td>\n",
       "      <td>The Afghan Hound is an ancient breed, his whol...</td>\n",
       "      <td>Dignified, Profoundly Loyal, Aristocratic</td>\n",
       "      <td>113</td>\n",
       "      <td>63.50</td>\n",
       "      <td>68.58</td>\n",
       "      <td>22.679619</td>\n",
       "      <td>27.215542</td>\n",
       "      <td>12.0</td>\n",
       "      <td>15.0</td>\n",
       "      <td>...</td>\n",
       "      <td>0.8</td>\n",
       "      <td>Energetic</td>\n",
       "      <td>0.2</td>\n",
       "      <td>May be Stubborn</td>\n",
       "      <td>0.2</td>\n",
       "      <td>Aloof/Wary</td>\n",
       "      <td>Loyal</td>\n",
       "      <td>66.040</td>\n",
       "      <td>24.947580</td>\n",
       "      <td>13.5</td>\n",
       "    </tr>\n",
       "    <tr>\n",
       "      <th>2</th>\n",
       "      <td>Airedale Terrier</td>\n",
       "      <td>The Airedale Terrier is the largest of all ter...</td>\n",
       "      <td>Friendly, Clever, Courageous</td>\n",
       "      <td>60</td>\n",
       "      <td>58.42</td>\n",
       "      <td>58.42</td>\n",
       "      <td>22.679619</td>\n",
       "      <td>31.751466</td>\n",
       "      <td>11.0</td>\n",
       "      <td>14.0</td>\n",
       "      <td>...</td>\n",
       "      <td>0.6</td>\n",
       "      <td>Regular Exercise</td>\n",
       "      <td>1.0</td>\n",
       "      <td>Eager to Please</td>\n",
       "      <td>0.8</td>\n",
       "      <td>Friendly</td>\n",
       "      <td>Amiable</td>\n",
       "      <td>58.420</td>\n",
       "      <td>27.215542</td>\n",
       "      <td>12.5</td>\n",
       "    </tr>\n",
       "    <tr>\n",
       "      <th>3</th>\n",
       "      <td>Akita</td>\n",
       "      <td>Akitas are burly, heavy-boned spitz-type dogs ...</td>\n",
       "      <td>Courageous, Dignified, Profoundly Loyal</td>\n",
       "      <td>47</td>\n",
       "      <td>60.96</td>\n",
       "      <td>71.12</td>\n",
       "      <td>31.751466</td>\n",
       "      <td>58.967008</td>\n",
       "      <td>10.0</td>\n",
       "      <td>13.0</td>\n",
       "      <td>...</td>\n",
       "      <td>0.8</td>\n",
       "      <td>Energetic</td>\n",
       "      <td>1.0</td>\n",
       "      <td>Eager to Please</td>\n",
       "      <td>0.6</td>\n",
       "      <td>Alert/Responsive</td>\n",
       "      <td>Loyal</td>\n",
       "      <td>66.040</td>\n",
       "      <td>45.359237</td>\n",
       "      <td>11.5</td>\n",
       "    </tr>\n",
       "    <tr>\n",
       "      <th>4</th>\n",
       "      <td>Alaskan Malamute</td>\n",
       "      <td>The Alaskan Malamute stands 23 to 25 inches at...</td>\n",
       "      <td>Affectionate, Loyal, Playful</td>\n",
       "      <td>58</td>\n",
       "      <td>58.42</td>\n",
       "      <td>63.50</td>\n",
       "      <td>34.019428</td>\n",
       "      <td>38.555351</td>\n",
       "      <td>10.0</td>\n",
       "      <td>14.0</td>\n",
       "      <td>...</td>\n",
       "      <td>0.8</td>\n",
       "      <td>Energetic</td>\n",
       "      <td>0.4</td>\n",
       "      <td>Independent</td>\n",
       "      <td>0.8</td>\n",
       "      <td>Friendly</td>\n",
       "      <td>Playful</td>\n",
       "      <td>60.960</td>\n",
       "      <td>36.287390</td>\n",
       "      <td>12.0</td>\n",
       "    </tr>\n",
       "  </tbody>\n",
       "</table>\n",
       "<p>5 rows × 25 columns</p>\n",
       "</div>"
      ],
      "text/plain": [
       "              breed                                        description  \\\n",
       "0     Affenpinscher  The Affen’s apish look has been described many...   \n",
       "1      Afghan Hound  The Afghan Hound is an ancient breed, his whol...   \n",
       "2  Airedale Terrier  The Airedale Terrier is the largest of all ter...   \n",
       "3             Akita  Akitas are burly, heavy-boned spitz-type dogs ...   \n",
       "4  Alaskan Malamute  The Alaskan Malamute stands 23 to 25 inches at...   \n",
       "\n",
       "                                 temperament popularity  min_height  \\\n",
       "0        Confident, Famously Funny, Fearless        148       22.86   \n",
       "1  Dignified, Profoundly Loyal, Aristocratic        113       63.50   \n",
       "2               Friendly, Clever, Courageous         60       58.42   \n",
       "3    Courageous, Dignified, Profoundly Loyal         47       60.96   \n",
       "4               Affectionate, Loyal, Playful         58       58.42   \n",
       "\n",
       "   max_height  min_weight  max_weight  min_expectancy  max_expectancy  ...  \\\n",
       "0       29.21    3.175147    4.535924            12.0            15.0  ...   \n",
       "1       68.58   22.679619   27.215542            12.0            15.0  ...   \n",
       "2       58.42   22.679619   31.751466            11.0            14.0  ...   \n",
       "3       71.12   31.751466   58.967008            10.0            13.0  ...   \n",
       "4       63.50   34.019428   38.555351            10.0            14.0  ...   \n",
       "\n",
       "  energy_level_value  energy_level_category trainability_value  \\\n",
       "0                0.6       Regular Exercise                0.8   \n",
       "1                0.8              Energetic                0.2   \n",
       "2                0.6       Regular Exercise                1.0   \n",
       "3                0.8              Energetic                1.0   \n",
       "4                0.8              Energetic                0.4   \n",
       "\n",
       "   trainability_category demeanor_value  demeanor_category  \\\n",
       "0          Easy Training            1.0           Outgoing   \n",
       "1        May be Stubborn            0.2         Aloof/Wary   \n",
       "2        Eager to Please            0.8           Friendly   \n",
       "3        Eager to Please            0.6   Alert/Responsive   \n",
       "4            Independent            0.8           Friendly   \n",
       "\n",
       "  temperament_category  height     weight  expectancy  \n",
       "0            Confident  26.035   3.855535        13.5  \n",
       "1                Loyal  66.040  24.947580        13.5  \n",
       "2              Amiable  58.420  27.215542        12.5  \n",
       "3                Loyal  66.040  45.359237        11.5  \n",
       "4              Playful  60.960  36.287390        12.0  \n",
       "\n",
       "[5 rows x 25 columns]"
      ]
     },
     "execution_count": 17,
     "metadata": {},
     "output_type": "execute_result"
    }
   ],
   "source": [
    "dataframe.head()"
   ]
  },
  {
   "cell_type": "code",
   "execution_count": 42,
   "metadata": {},
   "outputs": [
    {
     "data": {
      "text/plain": [
       "['Toy Group',\n",
       " 'Hound Group',\n",
       " 'Terrier Group',\n",
       " 'Working Group',\n",
       " 'Non-Sporting Group',\n",
       " 'Sporting Group',\n",
       " 'Herding Group']"
      ]
     },
     "execution_count": 42,
     "metadata": {},
     "output_type": "execute_result"
    }
   ],
   "source": [
    "dataframe['group'].unique().tolist()"
   ]
  },
  {
   "attachments": {},
   "cell_type": "markdown",
   "metadata": {},
   "source": [
    "## Mengkategorisasikan Kolom Height Menjadi 4 Kategori"
   ]
  },
  {
   "cell_type": "code",
   "execution_count": 19,
   "metadata": {},
   "outputs": [
    {
     "data": {
      "text/plain": [
       "Tall         75\n",
       "Medium       64\n",
       "Short        38\n",
       "Very Tall    11\n",
       "Name: height_category, dtype: int64"
      ]
     },
     "execution_count": 19,
     "metadata": {},
     "output_type": "execute_result"
    }
   ],
   "source": [
    "# Categorize height\n",
    "dataframe['height_category'] = pd.cut(dataframe['height'],\n",
    "                                      bins=[0, 30, 50, 70, float('inf')],\n",
    "                                      labels=['Short', 'Medium', 'Tall', 'Very Tall'])\n",
    "dataframe['height_category'].unique().tolist()\n",
    "dataframe['height_category'].value_counts()"
   ]
  },
  {
   "cell_type": "code",
   "execution_count": 20,
   "metadata": {},
   "outputs": [
    {
     "data": {
      "text/plain": [
       "[3.855535145000001,\n",
       " 24.947580350000003,\n",
       " 27.2155422,\n",
       " 45.359237,\n",
       " 36.2873896,\n",
       " 9.298643585,\n",
       " 29.48350405,\n",
       " 15.87573295,\n",
       " 52.163122550000004,\n",
       " 19.277675725,\n",
       " 23.813599425,\n",
       " 7.937866475,\n",
       " 19.958064280000002,\n",
       " 22.6796185,\n",
       " 10.43262451,\n",
       " 9.752235955,\n",
       " 22.679618500000004,\n",
       " 40.82331330000001,\n",
       " 27.215542199999998,\n",
       " 31.978262085,\n",
       " 41.957294225,\n",
       " 6.80388555,\n",
       " 39.689332375000006,\n",
       " 47.62719885,\n",
       " 43.09127515,\n",
       " 28.349523124999997,\n",
       " 79.37866475000001,\n",
       " 6.123496995,\n",
       " 37.421370525,\n",
       " 8.391458845,\n",
       " 21.545637575,\n",
       " 14.741752025,\n",
       " 35.153408675,\n",
       " 4.082331330000001,\n",
       " 20.411656649999998,\n",
       " 52.16312255,\n",
       " 20.411656650000005,\n",
       " 0.0,\n",
       " 14.288159655000001,\n",
       " 7.030681735000001,\n",
       " 8.61825503,\n",
       " 30.617484975000004,\n",
       " 2.72155422,\n",
       " 4.535923700000001,\n",
       " 31.7514659,\n",
       " 26.081561275000002,\n",
       " 31.751465900000007,\n",
       " 11.33980925,\n",
       " 5.216312255,\n",
       " 9.52543977,\n",
       " 47.400402665000016,\n",
       " 13.6077711,\n",
       " 30.617484975,\n",
       " 4.9895160700000005,\n",
       " 19.50447191,\n",
       " 12.020197805,\n",
       " 12.70058636,\n",
       " 16.32932532,\n",
       " 64.636912725,\n",
       " 51.02914162500001,\n",
       " 12.473790175000001,\n",
       " 25.627968905000003,\n",
       " 51.029141625,\n",
       " 4.762719885,\n",
       " 18.143694800000002,\n",
       " 40.823313299999995,\n",
       " 13.380974915,\n",
       " 7.71107029,\n",
       " 58.9670081,\n",
       " 5.669904625000001,\n",
       " 3.17514659,\n",
       " 5.4431084400000005,\n",
       " 79.37866475,\n",
       " 13.607771099999999,\n",
       " 7.030681735,\n",
       " 58.967008100000015,\n",
       " 56.69904625000001,\n",
       " 14.968548209999998,\n",
       " 23.360007055000004,\n",
       " 44.225256075,\n",
       " 3.401942775000001,\n",
       " 6.35029318,\n",
       " 13.154178730000002,\n",
       " 18.1436948,\n",
       " 2.26796185,\n",
       " 7.257477920000001,\n",
       " 11.566605435,\n",
       " 10.205828325,\n",
       " 7.937866475000001,\n",
       " 48.761179775,\n",
       " 5.443108440000001,\n",
       " 68.0388555,\n",
       " 5.8967008100000005,\n",
       " 41.957294225000005,\n",
       " 9.0718474,\n",
       " 10.659420695,\n",
       " 4.5359237000000014,\n",
       " 7.484274105000001,\n",
       " 14.06136347,\n",
       " 49.895160700000005,\n",
       " 10.886216880000001,\n",
       " 2.3813599425,\n",
       " 23.586803240000002,\n",
       " 32.885446825,\n",
       " 23.813599425000003,\n",
       " 14.741752025000004]"
      ]
     },
     "execution_count": 20,
     "metadata": {},
     "output_type": "execute_result"
    }
   ],
   "source": [
    "## remove 0.0 value from weight column to avoid error\n",
    "dataframe['weight'].unique().tolist()\n"
   ]
  },
  {
   "attachments": {},
   "cell_type": "markdown",
   "metadata": {},
   "source": [
    "## Mengkategorisasikan Kolom Weight Menjadi 4 Kategori"
   ]
  },
  {
   "cell_type": "code",
   "execution_count": 21,
   "metadata": {},
   "outputs": [
    {
     "data": {
      "text/plain": [
       "Medium        94\n",
       "Light         53\n",
       "Heavy         30\n",
       "Very Heavy    11\n",
       "Name: weight_category, dtype: int64"
      ]
     },
     "execution_count": 21,
     "metadata": {},
     "output_type": "execute_result"
    }
   ],
   "source": [
    "# Categorize weight\n",
    "dataframe['weight_category'] = pd.cut(dataframe['weight'],\n",
    "                                      bins=[0, 10, 30, 50, float('inf')],\n",
    "                                      labels=['Light', 'Medium', 'Heavy', 'Very Heavy'])\n",
    "default_weight_category = 'Medium'\n",
    "dataframe['weight_category'] = dataframe['weight_category'].fillna(default_weight_category)\n",
    "dataframe['weight_category'].unique().tolist()\n",
    "\n",
    "# count weight category\n",
    "dataframe['weight_category'].value_counts()"
   ]
  },
  {
   "cell_type": "code",
   "execution_count": 22,
   "metadata": {},
   "outputs": [
    {
     "data": {
      "text/plain": [
       "[13.5,\n",
       " 12.5,\n",
       " 11.5,\n",
       " 12.0,\n",
       " 14.0,\n",
       " 13.0,\n",
       " 11.0,\n",
       " 15.0,\n",
       " 8.5,\n",
       " 14.5,\n",
       " 10.0,\n",
       " 9.0,\n",
       " 8.0,\n",
       " 10.5,\n",
       " 15.5,\n",
       " 17.0,\n",
       " 6.5,\n",
       " 9.5,\n",
       " 7.0,\n",
       " 16.0,\n",
       " 0.0]"
      ]
     },
     "execution_count": 22,
     "metadata": {},
     "output_type": "execute_result"
    }
   ],
   "source": [
    "dataframe['expectancy'].unique().tolist()\n"
   ]
  },
  {
   "attachments": {},
   "cell_type": "markdown",
   "metadata": {},
   "source": [
    "## Mengkategorisasikan Kolom Expectancy Menjadi 4 Kategori"
   ]
  },
  {
   "cell_type": "code",
   "execution_count": 23,
   "metadata": {},
   "outputs": [
    {
     "data": {
      "text/plain": [
       "Long         146\n",
       "Very Long     26\n",
       "Medium        15\n",
       "Short          1\n",
       "Name: expectancy_category, dtype: int64"
      ]
     },
     "execution_count": 23,
     "metadata": {},
     "output_type": "execute_result"
    }
   ],
   "source": [
    "# Categorize expectancy\n",
    "dataframe['expectancy_category'] = pd.cut(dataframe['max_expectancy'],\n",
    "                                          bins=[0, 5, 10, 15, float('inf')],\n",
    "                                          labels=['Short', 'Medium', 'Long', 'Very Long'])\n",
    "dataframe['expectancy_category'] = dataframe['expectancy_category'].fillna('Short')\n",
    "dataframe['expectancy_category'].unique().tolist()\n",
    "dataframe['expectancy_category'].value_counts()"
   ]
  },
  {
   "cell_type": "code",
   "execution_count": 24,
   "metadata": {},
   "outputs": [
    {
     "data": {
      "text/plain": [
       "breed                            object\n",
       "description                      object\n",
       "temperament                      object\n",
       "popularity                       object\n",
       "min_height                      float64\n",
       "max_height                      float64\n",
       "min_weight                      float64\n",
       "max_weight                      float64\n",
       "min_expectancy                  float64\n",
       "max_expectancy                  float64\n",
       "group                            object\n",
       "grooming_frequency_value        float64\n",
       "grooming_frequency_category      object\n",
       "shedding_value                  float64\n",
       "shedding_category                object\n",
       "energy_level_value              float64\n",
       "energy_level_category            object\n",
       "trainability_value              float64\n",
       "trainability_category            object\n",
       "demeanor_value                  float64\n",
       "demeanor_category                object\n",
       "temperament_category             object\n",
       "height                          float64\n",
       "weight                          float64\n",
       "expectancy                      float64\n",
       "height_category                category\n",
       "weight_category                category\n",
       "expectancy_category            category\n",
       "dtype: object"
      ]
     },
     "execution_count": 24,
     "metadata": {},
     "output_type": "execute_result"
    }
   ],
   "source": [
    "dataframe.dtypes"
   ]
  },
  {
   "cell_type": "code",
   "execution_count": 25,
   "metadata": {},
   "outputs": [
    {
     "name": "stdout",
     "output_type": "stream",
     "text": [
      "Number of classes: 188\n"
     ]
    }
   ],
   "source": [
    "num_classes = len(dataframe['breed'])\n",
    "print('Number of classes: {}'.format(num_classes))"
   ]
  },
  {
   "attachments": {},
   "cell_type": "markdown",
   "metadata": {},
   "source": [
    "## 3. Training"
   ]
  },
  {
   "cell_type": "code",
   "execution_count": 36,
   "metadata": {},
   "outputs": [
    {
     "name": "stdout",
     "output_type": "stream",
     "text": [
      "Train for 19 steps, validate for 5 steps\n",
      "Epoch 1/25\n",
      "19/19 [==============================] - 11s 589ms/step - loss: 5.2536 - accuracy: 0.0000e+00 - val_loss: 5.2622 - val_accuracy: 0.0000e+00\n",
      "Epoch 2/25\n",
      "19/19 [==============================] - 1s 30ms/step - loss: 5.1941 - accuracy: 0.0067 - val_loss: 5.3154 - val_accuracy: 0.0000e+00\n",
      "Epoch 3/25\n",
      "19/19 [==============================] - 0s 17ms/step - loss: 5.1386 - accuracy: 0.0267 - val_loss: 5.4043 - val_accuracy: 0.0000e+00\n",
      "Epoch 4/25\n",
      "19/19 [==============================] - 0s 18ms/step - loss: 5.0587 - accuracy: 0.0333 - val_loss: 5.5859 - val_accuracy: 0.0000e+00\n",
      "Epoch 5/25\n",
      "19/19 [==============================] - 0s 21ms/step - loss: 4.9397 - accuracy: 0.0467 - val_loss: 5.9097 - val_accuracy: 0.0000e+00\n",
      "Epoch 6/25\n",
      "19/19 [==============================] - 0s 19ms/step - loss: 4.7821 - accuracy: 0.0600 - val_loss: 6.3873 - val_accuracy: 0.0000e+00\n",
      "Epoch 7/25\n",
      "19/19 [==============================] - 0s 24ms/step - loss: 4.5841 - accuracy: 0.0800 - val_loss: 6.9449 - val_accuracy: 0.0000e+00\n",
      "Epoch 8/25\n",
      "19/19 [==============================] - 1s 30ms/step - loss: 4.3524 - accuracy: 0.1000 - val_loss: 7.6338 - val_accuracy: 0.0000e+00\n",
      "Epoch 9/25\n",
      "19/19 [==============================] - 0s 19ms/step - loss: 4.0791 - accuracy: 0.1867 - val_loss: 8.3775 - val_accuracy: 0.0000e+00\n",
      "Epoch 10/25\n",
      "19/19 [==============================] - 0s 19ms/step - loss: 3.7614 - accuracy: 0.2533 - val_loss: 9.3017 - val_accuracy: 0.0000e+00\n",
      "Epoch 11/25\n",
      "19/19 [==============================] - 0s 18ms/step - loss: 3.3872 - accuracy: 0.3400 - val_loss: 10.3833 - val_accuracy: 0.0000e+00\n",
      "Epoch 12/25\n",
      "19/19 [==============================] - 0s 20ms/step - loss: 2.9943 - accuracy: 0.4600 - val_loss: 11.5679 - val_accuracy: 0.0000e+00\n",
      "Epoch 13/25\n",
      "19/19 [==============================] - 0s 17ms/step - loss: 2.5745 - accuracy: 0.5467 - val_loss: 12.7477 - val_accuracy: 0.0000e+00\n",
      "Epoch 14/25\n",
      "19/19 [==============================] - 0s 17ms/step - loss: 2.1666 - accuracy: 0.6800 - val_loss: 14.0498 - val_accuracy: 0.0000e+00\n",
      "Epoch 15/25\n",
      "19/19 [==============================] - 0s 21ms/step - loss: 1.7965 - accuracy: 0.7600 - val_loss: 15.3335 - val_accuracy: 0.0000e+00\n",
      "Epoch 16/25\n",
      "19/19 [==============================] - 0s 22ms/step - loss: 1.4736 - accuracy: 0.8667 - val_loss: 16.6292 - val_accuracy: 0.0000e+00\n",
      "Epoch 17/25\n",
      "19/19 [==============================] - 0s 21ms/step - loss: 1.2168 - accuracy: 0.8933 - val_loss: 17.8483 - val_accuracy: 0.0000e+00\n",
      "Epoch 18/25\n",
      "19/19 [==============================] - 0s 20ms/step - loss: 0.9786 - accuracy: 0.9400 - val_loss: 19.0865 - val_accuracy: 0.0000e+00\n",
      "Epoch 19/25\n",
      "19/19 [==============================] - 0s 21ms/step - loss: 0.7977 - accuracy: 0.9467 - val_loss: 20.0646 - val_accuracy: 0.0000e+00\n",
      "Epoch 20/25\n",
      "19/19 [==============================] - 1s 32ms/step - loss: 0.6766 - accuracy: 0.9333 - val_loss: 21.1053 - val_accuracy: 0.0000e+00\n",
      "Epoch 21/25\n",
      "19/19 [==============================] - 0s 26ms/step - loss: 0.5641 - accuracy: 0.9667 - val_loss: 21.9560 - val_accuracy: 0.0000e+00\n",
      "Epoch 22/25\n",
      "19/19 [==============================] - 1s 26ms/step - loss: 0.4623 - accuracy: 0.9867 - val_loss: 22.7600 - val_accuracy: 0.0000e+00\n",
      "Epoch 23/25\n",
      "19/19 [==============================] - 1s 27ms/step - loss: 0.3960 - accuracy: 0.9733 - val_loss: 23.5452 - val_accuracy: 0.0000e+00\n",
      "Epoch 24/25\n",
      "19/19 [==============================] - 0s 24ms/step - loss: 0.3394 - accuracy: 0.9867 - val_loss: 24.1954 - val_accuracy: 0.0000e+00\n",
      "Epoch 25/25\n",
      "19/19 [==============================] - 0s 22ms/step - loss: 0.3033 - accuracy: 0.9733 - val_loss: 24.9524 - val_accuracy: 0.0000e+00\n"
     ]
    }
   ],
   "source": [
    "# Convert categorical columns to category type\n",
    "categorical_cols = ['expectancy_category', 'height_category', 'weight_category', 'demeanor_category',\n",
    "                    'trainability_category', 'energy_level_category', 'shedding_category',\n",
    "                    'grooming_frequency_category', 'temperament_category']\n",
    "dataframe[categorical_cols] = dataframe[categorical_cols].astype('category')\n",
    "\n",
    "\n",
    "# Select the features and target variable\n",
    "features = ['expectancy_category', 'height_category', 'weight_category', 'demeanor_category',\n",
    "            'trainability_category', 'energy_level_category', 'shedding_category', 'grooming_frequency_category', 'temperament_category']\n",
    "target = 'breed'\n",
    "X = dataframe[features]\n",
    "y = dataframe[target]\n",
    "\n",
    "# Encode the target variable\n",
    "label_encoder = LabelEncoder()\n",
    "y_encoded = label_encoder.fit_transform(y)\n",
    "num_classes = len(label_encoder.classes_)\n",
    "\n",
    "# Split the data into train and test sets\n",
    "X_train, X_test, y_train, y_test = train_test_split(X, y_encoded, test_size=0.2, random_state=42)\n",
    "\n",
    "# Create feature columns for categorical features\n",
    "feature_columns = []\n",
    "for col in categorical_cols:\n",
    "    vocab = X[col].cat.categories.tolist()\n",
    "    cat_column = tf.feature_column.categorical_column_with_vocabulary_list(col, vocab)\n",
    "    emb_column = tf.feature_column.embedding_column(cat_column, dimension=8)\n",
    "    feature_columns.append(emb_column)\n",
    "\n",
    "# Create input functions for training and evaluation\n",
    "def input_fn(features, labels, batch_size=32, shuffle=True):\n",
    "    dataset = tf.data.Dataset.from_tensor_slices((dict(features), labels))\n",
    "    if shuffle:\n",
    "        dataset = dataset.shuffle(buffer_size=len(features))\n",
    "    dataset = dataset.batch(batch_size)\n",
    "    return dataset\n",
    "\n",
    "# Create the model\n",
    "model = tf.keras.Sequential([\n",
    "    tf.keras.layers.DenseFeatures(feature_columns),\n",
    "    tf.keras.layers.Dense(64, activation='relu'),\n",
    "    tf.keras.layers.Dense(32, activation='relu'),\n",
    "    tf.keras.layers.Dense(num_classes, activation='softmax')\n",
    "])\n",
    "\n",
    "# Compile the model\n",
    "model.compile(optimizer='adam', loss='sparse_categorical_crossentropy', metrics=['accuracy'])\n",
    "\n",
    "# Train the model\n",
    "batch_size = 8\n",
    "train_dataset = input_fn(X_train, y_train, batch_size=batch_size)\n",
    "validation_dataset = input_fn(X_test, y_test, batch_size=batch_size, shuffle=False)\n",
    "history = model.fit(train_dataset, validation_data=validation_dataset, epochs=25)\n"
   ]
  },
  {
   "cell_type": "code",
   "execution_count": 33,
   "metadata": {},
   "outputs": [
    {
     "data": {
      "image/png": "[encoded data removed]",
      "text/plain": [
       "<Figure size 640x480 with 1 Axes>"
      ]
     },
     "metadata": {},
     "output_type": "display_data"
    }
   ],
   "source": [
    "import matplotlib.pyplot as plt\n",
    "\n",
    "# Get training and validation accuracy values\n",
    "train_acc = history.history['accuracy']\n",
    "val_acc = history.history['val_accuracy']\n",
    "\n",
    "# Plot training and validation accuracy\n",
    "epochs = range(1, len(train_acc) + 1)\n",
    "plt.plot(epochs, train_acc, 'b', label='Training Accuracy')\n",
    "plt.plot(epochs, val_acc, 'r', label='Validation Accuracy')\n",
    "plt.title('Training and Validation Accuracy')\n",
    "plt.xlabel('Epochs')\n",
    "plt.ylabel('Accuracy')\n",
    "plt.legend()\n",
    "plt.show()"
   ]
  },
  {
   "cell_type": "code",
   "execution_count": 41,
   "metadata": {},
   "outputs": [
    {
     "name": "stdout",
     "output_type": "stream",
     "text": [
      "[array([['Friendly']], dtype=object), array([['Energetic']], dtype=object), array([['Medium']], dtype=object), array([['Daily Brushing\\t']], dtype=object), array([['Tall']], dtype=object), array([['Occasional']], dtype=object), array([['Independent']], dtype=object), array([['Medium']], dtype=object), array([['Loyal']], dtype=object)]\n",
      "English Foxhound\n"
     ]
    }
   ],
   "source": [
    "# Create a new dataframe with input features for prediction\n",
    "\n",
    "new_data = pd.DataFrame({\n",
    "    'expectancy_category': ['Medium'],\n",
    "    'height_category': ['Tall'],\n",
    "    'weight_category': ['Medium'],\n",
    "    'demeanor_category': ['Friendly'],\n",
    "    'trainability_category': ['Independent'],\n",
    "    'energy_level_category': ['Energetic'],\n",
    "    'shedding_category': ['Occasional'],\n",
    "    'grooming_frequency_category': ['Daily Brushing\t'],\n",
    "    'temperament_category': ['Loyal']\n",
    "})\n",
    "\n",
    "\n",
    "# Convert the new data to individual arrays for prediction\n",
    "new_data_arrays = [new_data[feature].values.reshape(-1, 1) for feature in ['demeanor_category', 'energy_level_category', 'expectancy_category', 'grooming_frequency_category', 'height_category', 'shedding_category', 'trainability_category', 'weight_category', 'temperament_category']]\n",
    "print(new_data_arrays)\n",
    "\n",
    "# Make predictions on the new data\n",
    "predictions = model.predict(new_data_arrays)\n",
    "\n",
    "# Decode the predicted breed labels\n",
    "predicted_labels = np.argmax(predictions, axis=1)\n",
    "predicted_labels = label_encoder.inverse_transform(predicted_labels)\n",
    "# Menampilkan hasil prediksi\n",
    "for label in predicted_labels:\n",
    "    print(label)\n"
   ]
  },
  {
   "cell_type": "code",
   "execution_count": null,
   "metadata": {},
   "outputs": [],
   "source": []
  },
  {
   "cell_type": "code",
   "execution_count": null,
   "metadata": {},
   "outputs": [],
   "source": []
  }
 ],
 "metadata": {
  "kernelspec": {
   "display_name": "Python 3",
   "language": "python",
   "name": "python3"
  },
  "language_info": {
   "codemirror_mode": {
    "name": "ipython",
    "version": 3
   },
   "file_extension": ".py",
   "mimetype": "text/x-python",
   "name": "python",
   "nbconvert_exporter": "python",
   "pygments_lexer": "ipython3",
   "version": "3.7.0"
  },
  "orig_nbformat": 4
 },
 "nbformat": 4,
 "nbformat_minor": 2
}
